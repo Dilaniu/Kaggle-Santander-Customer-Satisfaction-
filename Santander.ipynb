{
  "nbformat": 4,
  "nbformat_minor": 0,
  "metadata": {
    "colab": {
      "provenance": []
    },
    "kernelspec": {
      "name": "python3",
      "display_name": "Python 3"
    },
    "language_info": {
      "name": "python"
    }
  },
  "cells": [
    {
      "cell_type": "code",
      "execution_count": null,
      "metadata": {
        "id": "FjmT_Oalkjp7"
      },
      "outputs": [],
      "source": []
    },
    {
      "cell_type": "code",
      "metadata": {
        "id": "Wf-p0-lGBUI_",
        "colab": {
          "base_uri": "https://localhost:8080/"
        },
        "outputId": "d94b966c-dea5-4e80-b26e-cfd9a387f944"
      },
      "source": [
        "#Import Python Packages\n",
        "#from google.colab import drive\n",
        "#drive.mount('/content/drive/')\n",
        "\n",
        "from google.colab import drive\n",
        "drive.mount('/gdrive')\n",
        "%cd /gdrive"
      ],
      "execution_count": null,
      "outputs": [
        {
          "output_type": "stream",
          "name": "stdout",
          "text": [
            "Mounted at /gdrive\n",
            "/gdrive\n"
          ]
        }
      ]
    },
    {
      "cell_type": "code",
      "metadata": {
        "id": "uVG9hqkMISEh"
      },
      "source": [
        "#Import all necessary librabry\n",
        "\n",
        "import pandas as pd\n",
        "import numpy as np\n",
        "from sklearn.tree import DecisionTreeClassifier\n",
        "from sklearn.metrics import confusion_matrix,classification_report\n",
        "from sklearn.model_selection import train_test_split # Import train_test_split function\n",
        "from sklearn import metrics #Import scikit-learn metrics module for accuracy calculation\n",
        "from sklearn import tree"
      ],
      "execution_count": null,
      "outputs": []
    },
    {
      "cell_type": "code",
      "metadata": {
        "id": "IWybsWyZIv0a"
      },
      "source": [
        "#Read training data file\n",
        "trainData = pd.read_csv('/gdrive/My Drive/Santander Customer Satisfaction - TRAIN-2.csv')\n",
        "\n",
        "#Read test data file\n",
        "testData = pd.read_csv('/gdrive/My Drive/Santander Customer Satisfaction - TEST-Without TARGET-2.csv')\n"
      ],
      "execution_count": null,
      "outputs": []
    },
    {
      "cell_type": "code",
      "source": [
        "trainData.info()\n",
        "print()\n",
        "testData.info()\n"
      ],
      "metadata": {
        "colab": {
          "base_uri": "https://localhost:8080/"
        },
        "id": "ljiEXLscwBmA",
        "outputId": "032a15e4-1953-42f6-dab7-2d2c62d4309b"
      },
      "execution_count": null,
      "outputs": [
        {
          "output_type": "stream",
          "name": "stdout",
          "text": [
            "<class 'pandas.core.frame.DataFrame'>\n",
            "RangeIndex: 76020 entries, 0 to 76019\n",
            "Columns: 371 entries, ID to TARGET\n",
            "dtypes: float64(111), int64(260)\n",
            "memory usage: 215.2 MB\n",
            "\n",
            "<class 'pandas.core.frame.DataFrame'>\n",
            "RangeIndex: 75818 entries, 0 to 75817\n",
            "Columns: 370 entries, ID to var38\n",
            "dtypes: float64(110), int64(260)\n",
            "memory usage: 214.0 MB\n"
          ]
        }
      ]
    },
    {
      "cell_type": "code",
      "source": [
        "trainData.head()\n",
        "#print(\"=======\")\n"
      ],
      "metadata": {
        "id": "fpqBMezmvwtf"
      },
      "execution_count": null,
      "outputs": []
    },
    {
      "cell_type": "code",
      "source": [
        "testData.head()"
      ],
      "metadata": {
        "id": "clNIVuc-v2O6"
      },
      "execution_count": null,
      "outputs": []
    },
    {
      "cell_type": "code",
      "metadata": {
        "id": "PQeY43Swrc_e",
        "colab": {
          "base_uri": "https://localhost:8080/"
        },
        "outputId": "65570cce-beac-4386-8d82-b5557c469d15"
      },
      "source": [
        "print(trainData.shape)      # To get (Number of Rows, Number of Columns) of a data frame we use DataFrame.shape\n",
        "print(testData.shape)"
      ],
      "execution_count": null,
      "outputs": [
        {
          "output_type": "stream",
          "name": "stdout",
          "text": [
            "(76020, 371)\n",
            "(75818, 370)\n"
          ]
        }
      ]
    },
    {
      "cell_type": "code",
      "metadata": {
        "id": "dmHQIKNArdCd"
      },
      "source": [
        "#Understanding the Columns\n",
        "\n",
        "trainData.info()\n",
        "print()\n",
        "testData.info()"
      ],
      "execution_count": null,
      "outputs": []
    },
    {
      "cell_type": "code",
      "metadata": {
        "id": "V29lV4XDrkNd"
      },
      "source": [
        "# To check number of null values; we see zero nulls in our attributes\n",
        "trainData.isna().sum()"
      ],
      "execution_count": null,
      "outputs": []
    },
    {
      "cell_type": "code",
      "metadata": {
        "id": "HFGRLe8ArkQc"
      },
      "source": [
        "# To check basic statistics of a data set, column wise\n",
        "trainData.describe()"
      ],
      "execution_count": null,
      "outputs": []
    },
    {
      "cell_type": "code",
      "metadata": {
        "id": "JaxGWndzrkTV",
        "colab": {
          "base_uri": "https://localhost:8080/"
        },
        "outputId": "8717d487-6e56-4f48-93ea-111f2eaa2c54"
      },
      "source": [
        "#To get list of names of all Columns from a dataframe\n",
        "\n",
        "TrainCols = list(trainData.columns.values)\n",
        "TestCols = list(testData.columns.values)\n",
        "print(TrainCols)\n",
        "print(TestCols)"
      ],
      "execution_count": null,
      "outputs": [
        {
          "output_type": "stream",
          "name": "stdout",
          "text": [
            "['ID', 'var3', 'var15', 'imp_ent_var16_ult1', 'imp_op_var39_comer_ult1', 'imp_op_var39_comer_ult3', 'imp_op_var40_comer_ult1', 'imp_op_var40_comer_ult3', 'imp_op_var40_efect_ult1', 'imp_op_var40_efect_ult3', 'imp_op_var40_ult1', 'imp_op_var41_comer_ult1', 'imp_op_var41_comer_ult3', 'imp_op_var41_efect_ult1', 'imp_op_var41_efect_ult3', 'imp_op_var41_ult1', 'imp_op_var39_efect_ult1', 'imp_op_var39_efect_ult3', 'imp_op_var39_ult1', 'imp_sal_var16_ult1', 'ind_var1_0', 'ind_var1', 'ind_var2_0', 'ind_var2', 'ind_var5_0', 'ind_var5', 'ind_var6_0', 'ind_var6', 'ind_var8_0', 'ind_var8', 'ind_var12_0', 'ind_var12', 'ind_var13_0', 'ind_var13_corto_0', 'ind_var13_corto', 'ind_var13_largo_0', 'ind_var13_largo', 'ind_var13_medio_0', 'ind_var13_medio', 'ind_var13', 'ind_var14_0', 'ind_var14', 'ind_var17_0', 'ind_var17', 'ind_var18_0', 'ind_var18', 'ind_var19', 'ind_var20_0', 'ind_var20', 'ind_var24_0', 'ind_var24', 'ind_var25_cte', 'ind_var26_0', 'ind_var26_cte', 'ind_var26', 'ind_var25_0', 'ind_var25', 'ind_var27_0', 'ind_var28_0', 'ind_var28', 'ind_var27', 'ind_var29_0', 'ind_var29', 'ind_var30_0', 'ind_var30', 'ind_var31_0', 'ind_var31', 'ind_var32_cte', 'ind_var32_0', 'ind_var32', 'ind_var33_0', 'ind_var33', 'ind_var34_0', 'ind_var34', 'ind_var37_cte', 'ind_var37_0', 'ind_var37', 'ind_var39_0', 'ind_var40_0', 'ind_var40', 'ind_var41_0', 'ind_var41', 'ind_var39', 'ind_var44_0', 'ind_var44', 'ind_var46_0', 'ind_var46', 'num_var1_0', 'num_var1', 'num_var4', 'num_var5_0', 'num_var5', 'num_var6_0', 'num_var6', 'num_var8_0', 'num_var8', 'num_var12_0', 'num_var12', 'num_var13_0', 'num_var13_corto_0', 'num_var13_corto', 'num_var13_largo_0', 'num_var13_largo', 'num_var13_medio_0', 'num_var13_medio', 'num_var13', 'num_var14_0', 'num_var14', 'num_var17_0', 'num_var17', 'num_var18_0', 'num_var18', 'num_var20_0', 'num_var20', 'num_var24_0', 'num_var24', 'num_var26_0', 'num_var26', 'num_var25_0', 'num_var25', 'num_op_var40_hace2', 'num_op_var40_hace3', 'num_op_var40_ult1', 'num_op_var40_ult3', 'num_op_var41_hace2', 'num_op_var41_hace3', 'num_op_var41_ult1', 'num_op_var41_ult3', 'num_op_var39_hace2', 'num_op_var39_hace3', 'num_op_var39_ult1', 'num_op_var39_ult3', 'num_var27_0', 'num_var28_0', 'num_var28', 'num_var27', 'num_var29_0', 'num_var29', 'num_var30_0', 'num_var30', 'num_var31_0', 'num_var31', 'num_var32_0', 'num_var32', 'num_var33_0', 'num_var33', 'num_var34_0', 'num_var34', 'num_var35', 'num_var37_med_ult2', 'num_var37_0', 'num_var37', 'num_var39_0', 'num_var40_0', 'num_var40', 'num_var41_0', 'num_var41', 'num_var39', 'num_var42_0', 'num_var42', 'num_var44_0', 'num_var44', 'num_var46_0', 'num_var46', 'saldo_var1', 'saldo_var5', 'saldo_var6', 'saldo_var8', 'saldo_var12', 'saldo_var13_corto', 'saldo_var13_largo', 'saldo_var13_medio', 'saldo_var13', 'saldo_var14', 'saldo_var17', 'saldo_var18', 'saldo_var20', 'saldo_var24', 'saldo_var26', 'saldo_var25', 'saldo_var28', 'saldo_var27', 'saldo_var29', 'saldo_var30', 'saldo_var31', 'saldo_var32', 'saldo_var33', 'saldo_var34', 'saldo_var37', 'saldo_var40', 'saldo_var41', 'saldo_var42', 'saldo_var44', 'saldo_var46', 'var36', 'delta_imp_amort_var18_1y3', 'delta_imp_amort_var34_1y3', 'delta_imp_aport_var13_1y3', 'delta_imp_aport_var17_1y3', 'delta_imp_aport_var33_1y3', 'delta_imp_compra_var44_1y3', 'delta_imp_reemb_var13_1y3', 'delta_imp_reemb_var17_1y3', 'delta_imp_reemb_var33_1y3', 'delta_imp_trasp_var17_in_1y3', 'delta_imp_trasp_var17_out_1y3', 'delta_imp_trasp_var33_in_1y3', 'delta_imp_trasp_var33_out_1y3', 'delta_imp_venta_var44_1y3', 'delta_num_aport_var13_1y3', 'delta_num_aport_var17_1y3', 'delta_num_aport_var33_1y3', 'delta_num_compra_var44_1y3', 'delta_num_reemb_var13_1y3', 'delta_num_reemb_var17_1y3', 'delta_num_reemb_var33_1y3', 'delta_num_trasp_var17_in_1y3', 'delta_num_trasp_var17_out_1y3', 'delta_num_trasp_var33_in_1y3', 'delta_num_trasp_var33_out_1y3', 'delta_num_venta_var44_1y3', 'imp_amort_var18_hace3', 'imp_amort_var18_ult1', 'imp_amort_var34_hace3', 'imp_amort_var34_ult1', 'imp_aport_var13_hace3', 'imp_aport_var13_ult1', 'imp_aport_var17_hace3', 'imp_aport_var17_ult1', 'imp_aport_var33_hace3', 'imp_aport_var33_ult1', 'imp_var7_emit_ult1', 'imp_var7_recib_ult1', 'imp_compra_var44_hace3', 'imp_compra_var44_ult1', 'imp_reemb_var13_hace3', 'imp_reemb_var13_ult1', 'imp_reemb_var17_hace3', 'imp_reemb_var17_ult1', 'imp_reemb_var33_hace3', 'imp_reemb_var33_ult1', 'imp_var43_emit_ult1', 'imp_trans_var37_ult1', 'imp_trasp_var17_in_hace3', 'imp_trasp_var17_in_ult1', 'imp_trasp_var17_out_hace3', 'imp_trasp_var17_out_ult1', 'imp_trasp_var33_in_hace3', 'imp_trasp_var33_in_ult1', 'imp_trasp_var33_out_hace3', 'imp_trasp_var33_out_ult1', 'imp_venta_var44_hace3', 'imp_venta_var44_ult1', 'ind_var7_emit_ult1', 'ind_var7_recib_ult1', 'ind_var10_ult1', 'ind_var10cte_ult1', 'ind_var9_cte_ult1', 'ind_var9_ult1', 'ind_var43_emit_ult1', 'ind_var43_recib_ult1', 'var21', 'num_var2_0_ult1', 'num_var2_ult1', 'num_aport_var13_hace3', 'num_aport_var13_ult1', 'num_aport_var17_hace3', 'num_aport_var17_ult1', 'num_aport_var33_hace3', 'num_aport_var33_ult1', 'num_var7_emit_ult1', 'num_var7_recib_ult1', 'num_compra_var44_hace3', 'num_compra_var44_ult1', 'num_ent_var16_ult1', 'num_var22_hace2', 'num_var22_hace3', 'num_var22_ult1', 'num_var22_ult3', 'num_med_var22_ult3', 'num_med_var45_ult3', 'num_meses_var5_ult3', 'num_meses_var8_ult3', 'num_meses_var12_ult3', 'num_meses_var13_corto_ult3', 'num_meses_var13_largo_ult3', 'num_meses_var13_medio_ult3', 'num_meses_var17_ult3', 'num_meses_var29_ult3', 'num_meses_var33_ult3', 'num_meses_var39_vig_ult3', 'num_meses_var44_ult3', 'num_op_var39_comer_ult1', 'num_op_var39_comer_ult3', 'num_op_var40_comer_ult1', 'num_op_var40_comer_ult3', 'num_op_var40_efect_ult1', 'num_op_var40_efect_ult3', 'num_op_var41_comer_ult1', 'num_op_var41_comer_ult3', 'num_op_var41_efect_ult1', 'num_op_var41_efect_ult3', 'num_op_var39_efect_ult1', 'num_op_var39_efect_ult3', 'num_reemb_var13_hace3', 'num_reemb_var13_ult1', 'num_reemb_var17_hace3', 'num_reemb_var17_ult1', 'num_reemb_var33_hace3', 'num_reemb_var33_ult1', 'num_sal_var16_ult1', 'num_var43_emit_ult1', 'num_var43_recib_ult1', 'num_trasp_var11_ult1', 'num_trasp_var17_in_hace3', 'num_trasp_var17_in_ult1', 'num_trasp_var17_out_hace3', 'num_trasp_var17_out_ult1', 'num_trasp_var33_in_hace3', 'num_trasp_var33_in_ult1', 'num_trasp_var33_out_hace3', 'num_trasp_var33_out_ult1', 'num_venta_var44_hace3', 'num_venta_var44_ult1', 'num_var45_hace2', 'num_var45_hace3', 'num_var45_ult1', 'num_var45_ult3', 'saldo_var2_ult1', 'saldo_medio_var5_hace2', 'saldo_medio_var5_hace3', 'saldo_medio_var5_ult1', 'saldo_medio_var5_ult3', 'saldo_medio_var8_hace2', 'saldo_medio_var8_hace3', 'saldo_medio_var8_ult1', 'saldo_medio_var8_ult3', 'saldo_medio_var12_hace2', 'saldo_medio_var12_hace3', 'saldo_medio_var12_ult1', 'saldo_medio_var12_ult3', 'saldo_medio_var13_corto_hace2', 'saldo_medio_var13_corto_hace3', 'saldo_medio_var13_corto_ult1', 'saldo_medio_var13_corto_ult3', 'saldo_medio_var13_largo_hace2', 'saldo_medio_var13_largo_hace3', 'saldo_medio_var13_largo_ult1', 'saldo_medio_var13_largo_ult3', 'saldo_medio_var13_medio_hace2', 'saldo_medio_var13_medio_hace3', 'saldo_medio_var13_medio_ult1', 'saldo_medio_var13_medio_ult3', 'saldo_medio_var17_hace2', 'saldo_medio_var17_hace3', 'saldo_medio_var17_ult1', 'saldo_medio_var17_ult3', 'saldo_medio_var29_hace2', 'saldo_medio_var29_hace3', 'saldo_medio_var29_ult1', 'saldo_medio_var29_ult3', 'saldo_medio_var33_hace2', 'saldo_medio_var33_hace3', 'saldo_medio_var33_ult1', 'saldo_medio_var33_ult3', 'saldo_medio_var44_hace2', 'saldo_medio_var44_hace3', 'saldo_medio_var44_ult1', 'saldo_medio_var44_ult3', 'var38', 'TARGET']\n",
            "['ID', 'var3', 'var15', 'imp_ent_var16_ult1', 'imp_op_var39_comer_ult1', 'imp_op_var39_comer_ult3', 'imp_op_var40_comer_ult1', 'imp_op_var40_comer_ult3', 'imp_op_var40_efect_ult1', 'imp_op_var40_efect_ult3', 'imp_op_var40_ult1', 'imp_op_var41_comer_ult1', 'imp_op_var41_comer_ult3', 'imp_op_var41_efect_ult1', 'imp_op_var41_efect_ult3', 'imp_op_var41_ult1', 'imp_op_var39_efect_ult1', 'imp_op_var39_efect_ult3', 'imp_op_var39_ult1', 'imp_sal_var16_ult1', 'ind_var1_0', 'ind_var1', 'ind_var2_0', 'ind_var2', 'ind_var5_0', 'ind_var5', 'ind_var6_0', 'ind_var6', 'ind_var8_0', 'ind_var8', 'ind_var12_0', 'ind_var12', 'ind_var13_0', 'ind_var13_corto_0', 'ind_var13_corto', 'ind_var13_largo_0', 'ind_var13_largo', 'ind_var13_medio_0', 'ind_var13_medio', 'ind_var13', 'ind_var14_0', 'ind_var14', 'ind_var17_0', 'ind_var17', 'ind_var18_0', 'ind_var18', 'ind_var19', 'ind_var20_0', 'ind_var20', 'ind_var24_0', 'ind_var24', 'ind_var25_cte', 'ind_var26_0', 'ind_var26_cte', 'ind_var26', 'ind_var25_0', 'ind_var25', 'ind_var27_0', 'ind_var28_0', 'ind_var28', 'ind_var27', 'ind_var29_0', 'ind_var29', 'ind_var30_0', 'ind_var30', 'ind_var31_0', 'ind_var31', 'ind_var32_cte', 'ind_var32_0', 'ind_var32', 'ind_var33_0', 'ind_var33', 'ind_var34_0', 'ind_var34', 'ind_var37_cte', 'ind_var37_0', 'ind_var37', 'ind_var39_0', 'ind_var40_0', 'ind_var40', 'ind_var41_0', 'ind_var41', 'ind_var39', 'ind_var44_0', 'ind_var44', 'ind_var46_0', 'ind_var46', 'num_var1_0', 'num_var1', 'num_var4', 'num_var5_0', 'num_var5', 'num_var6_0', 'num_var6', 'num_var8_0', 'num_var8', 'num_var12_0', 'num_var12', 'num_var13_0', 'num_var13_corto_0', 'num_var13_corto', 'num_var13_largo_0', 'num_var13_largo', 'num_var13_medio_0', 'num_var13_medio', 'num_var13', 'num_var14_0', 'num_var14', 'num_var17_0', 'num_var17', 'num_var18_0', 'num_var18', 'num_var20_0', 'num_var20', 'num_var24_0', 'num_var24', 'num_var26_0', 'num_var26', 'num_var25_0', 'num_var25', 'num_op_var40_hace2', 'num_op_var40_hace3', 'num_op_var40_ult1', 'num_op_var40_ult3', 'num_op_var41_hace2', 'num_op_var41_hace3', 'num_op_var41_ult1', 'num_op_var41_ult3', 'num_op_var39_hace2', 'num_op_var39_hace3', 'num_op_var39_ult1', 'num_op_var39_ult3', 'num_var27_0', 'num_var28_0', 'num_var28', 'num_var27', 'num_var29_0', 'num_var29', 'num_var30_0', 'num_var30', 'num_var31_0', 'num_var31', 'num_var32_0', 'num_var32', 'num_var33_0', 'num_var33', 'num_var34_0', 'num_var34', 'num_var35', 'num_var37_med_ult2', 'num_var37_0', 'num_var37', 'num_var39_0', 'num_var40_0', 'num_var40', 'num_var41_0', 'num_var41', 'num_var39', 'num_var42_0', 'num_var42', 'num_var44_0', 'num_var44', 'num_var46_0', 'num_var46', 'saldo_var1', 'saldo_var5', 'saldo_var6', 'saldo_var8', 'saldo_var12', 'saldo_var13_corto', 'saldo_var13_largo', 'saldo_var13_medio', 'saldo_var13', 'saldo_var14', 'saldo_var17', 'saldo_var18', 'saldo_var20', 'saldo_var24', 'saldo_var26', 'saldo_var25', 'saldo_var28', 'saldo_var27', 'saldo_var29', 'saldo_var30', 'saldo_var31', 'saldo_var32', 'saldo_var33', 'saldo_var34', 'saldo_var37', 'saldo_var40', 'saldo_var41', 'saldo_var42', 'saldo_var44', 'saldo_var46', 'var36', 'delta_imp_amort_var18_1y3', 'delta_imp_amort_var34_1y3', 'delta_imp_aport_var13_1y3', 'delta_imp_aport_var17_1y3', 'delta_imp_aport_var33_1y3', 'delta_imp_compra_var44_1y3', 'delta_imp_reemb_var13_1y3', 'delta_imp_reemb_var17_1y3', 'delta_imp_reemb_var33_1y3', 'delta_imp_trasp_var17_in_1y3', 'delta_imp_trasp_var17_out_1y3', 'delta_imp_trasp_var33_in_1y3', 'delta_imp_trasp_var33_out_1y3', 'delta_imp_venta_var44_1y3', 'delta_num_aport_var13_1y3', 'delta_num_aport_var17_1y3', 'delta_num_aport_var33_1y3', 'delta_num_compra_var44_1y3', 'delta_num_reemb_var13_1y3', 'delta_num_reemb_var17_1y3', 'delta_num_reemb_var33_1y3', 'delta_num_trasp_var17_in_1y3', 'delta_num_trasp_var17_out_1y3', 'delta_num_trasp_var33_in_1y3', 'delta_num_trasp_var33_out_1y3', 'delta_num_venta_var44_1y3', 'imp_amort_var18_hace3', 'imp_amort_var18_ult1', 'imp_amort_var34_hace3', 'imp_amort_var34_ult1', 'imp_aport_var13_hace3', 'imp_aport_var13_ult1', 'imp_aport_var17_hace3', 'imp_aport_var17_ult1', 'imp_aport_var33_hace3', 'imp_aport_var33_ult1', 'imp_var7_emit_ult1', 'imp_var7_recib_ult1', 'imp_compra_var44_hace3', 'imp_compra_var44_ult1', 'imp_reemb_var13_hace3', 'imp_reemb_var13_ult1', 'imp_reemb_var17_hace3', 'imp_reemb_var17_ult1', 'imp_reemb_var33_hace3', 'imp_reemb_var33_ult1', 'imp_var43_emit_ult1', 'imp_trans_var37_ult1', 'imp_trasp_var17_in_hace3', 'imp_trasp_var17_in_ult1', 'imp_trasp_var17_out_hace3', 'imp_trasp_var17_out_ult1', 'imp_trasp_var33_in_hace3', 'imp_trasp_var33_in_ult1', 'imp_trasp_var33_out_hace3', 'imp_trasp_var33_out_ult1', 'imp_venta_var44_hace3', 'imp_venta_var44_ult1', 'ind_var7_emit_ult1', 'ind_var7_recib_ult1', 'ind_var10_ult1', 'ind_var10cte_ult1', 'ind_var9_cte_ult1', 'ind_var9_ult1', 'ind_var43_emit_ult1', 'ind_var43_recib_ult1', 'var21', 'num_var2_0_ult1', 'num_var2_ult1', 'num_aport_var13_hace3', 'num_aport_var13_ult1', 'num_aport_var17_hace3', 'num_aport_var17_ult1', 'num_aport_var33_hace3', 'num_aport_var33_ult1', 'num_var7_emit_ult1', 'num_var7_recib_ult1', 'num_compra_var44_hace3', 'num_compra_var44_ult1', 'num_ent_var16_ult1', 'num_var22_hace2', 'num_var22_hace3', 'num_var22_ult1', 'num_var22_ult3', 'num_med_var22_ult3', 'num_med_var45_ult3', 'num_meses_var5_ult3', 'num_meses_var8_ult3', 'num_meses_var12_ult3', 'num_meses_var13_corto_ult3', 'num_meses_var13_largo_ult3', 'num_meses_var13_medio_ult3', 'num_meses_var17_ult3', 'num_meses_var29_ult3', 'num_meses_var33_ult3', 'num_meses_var39_vig_ult3', 'num_meses_var44_ult3', 'num_op_var39_comer_ult1', 'num_op_var39_comer_ult3', 'num_op_var40_comer_ult1', 'num_op_var40_comer_ult3', 'num_op_var40_efect_ult1', 'num_op_var40_efect_ult3', 'num_op_var41_comer_ult1', 'num_op_var41_comer_ult3', 'num_op_var41_efect_ult1', 'num_op_var41_efect_ult3', 'num_op_var39_efect_ult1', 'num_op_var39_efect_ult3', 'num_reemb_var13_hace3', 'num_reemb_var13_ult1', 'num_reemb_var17_hace3', 'num_reemb_var17_ult1', 'num_reemb_var33_hace3', 'num_reemb_var33_ult1', 'num_sal_var16_ult1', 'num_var43_emit_ult1', 'num_var43_recib_ult1', 'num_trasp_var11_ult1', 'num_trasp_var17_in_hace3', 'num_trasp_var17_in_ult1', 'num_trasp_var17_out_hace3', 'num_trasp_var17_out_ult1', 'num_trasp_var33_in_hace3', 'num_trasp_var33_in_ult1', 'num_trasp_var33_out_hace3', 'num_trasp_var33_out_ult1', 'num_venta_var44_hace3', 'num_venta_var44_ult1', 'num_var45_hace2', 'num_var45_hace3', 'num_var45_ult1', 'num_var45_ult3', 'saldo_var2_ult1', 'saldo_medio_var5_hace2', 'saldo_medio_var5_hace3', 'saldo_medio_var5_ult1', 'saldo_medio_var5_ult3', 'saldo_medio_var8_hace2', 'saldo_medio_var8_hace3', 'saldo_medio_var8_ult1', 'saldo_medio_var8_ult3', 'saldo_medio_var12_hace2', 'saldo_medio_var12_hace3', 'saldo_medio_var12_ult1', 'saldo_medio_var12_ult3', 'saldo_medio_var13_corto_hace2', 'saldo_medio_var13_corto_hace3', 'saldo_medio_var13_corto_ult1', 'saldo_medio_var13_corto_ult3', 'saldo_medio_var13_largo_hace2', 'saldo_medio_var13_largo_hace3', 'saldo_medio_var13_largo_ult1', 'saldo_medio_var13_largo_ult3', 'saldo_medio_var13_medio_hace2', 'saldo_medio_var13_medio_hace3', 'saldo_medio_var13_medio_ult1', 'saldo_medio_var13_medio_ult3', 'saldo_medio_var17_hace2', 'saldo_medio_var17_hace3', 'saldo_medio_var17_ult1', 'saldo_medio_var17_ult3', 'saldo_medio_var29_hace2', 'saldo_medio_var29_hace3', 'saldo_medio_var29_ult1', 'saldo_medio_var29_ult3', 'saldo_medio_var33_hace2', 'saldo_medio_var33_hace3', 'saldo_medio_var33_ult1', 'saldo_medio_var33_ult3', 'saldo_medio_var44_hace2', 'saldo_medio_var44_hace3', 'saldo_medio_var44_ult1', 'saldo_medio_var44_ult3', 'var38']\n"
          ]
        }
      ]
    },
    {
      "cell_type": "code",
      "metadata": {
        "id": "b8SooiqorkWI",
        "colab": {
          "base_uri": "https://localhost:8080/"
        },
        "outputId": "8d197cce-6602-4ec8-adf0-fcac795395b6"
      },
      "source": [
        "# Seperate Target column from Train Data\n",
        "Xtrain = trainData[TrainCols[0:len(TrainCols)-1]].copy()\n",
        "Ytrain = trainData[['TARGET']].copy()\n",
        "print(Xtrain.shape)\n",
        "print(Ytrain.shape)\n",
        "Xtest = testData.copy()"
      ],
      "execution_count": null,
      "outputs": [
        {
          "output_type": "stream",
          "name": "stdout",
          "text": [
            "(76020, 370)\n",
            "(76020, 1)\n"
          ]
        }
      ]
    },
    {
      "cell_type": "code",
      "metadata": {
        "id": "TwikuM4XrkY_"
      },
      "source": [
        "# Initialising Decision Tree Algorithm and fitting the model on train set\n",
        "dt = DecisionTreeClassifier()\n",
        "dt.fit(Xtrain, Ytrain)\n",
        "\n",
        "Y_Pred = dt.predict(Xtest)\n"
      ],
      "execution_count": null,
      "outputs": []
    },
    {
      "cell_type": "code",
      "metadata": {
        "id": "Dd0XM6SHrkcF",
        "colab": {
          "base_uri": "https://localhost:8080/"
        },
        "outputId": "81e96b72-a697-4490-d3ad-5311dd94d8d2"
      },
      "source": [
        "# Basic Analysis\n",
        "print(\"Count of 0 & 1 in TARGET column for Train Data\")\n",
        "print(Ytrain['TARGET'].value_counts())\n"
      ],
      "execution_count": null,
      "outputs": [
        {
          "output_type": "stream",
          "name": "stdout",
          "text": [
            "Count of 0 & 1 in TARGET column for Train Data\n",
            "0    73012\n",
            "1     3008\n",
            "Name: TARGET, dtype: int64\n"
          ]
        }
      ]
    },
    {
      "cell_type": "code",
      "metadata": {
        "id": "NtOYBMyNrkeO",
        "colab": {
          "base_uri": "https://localhost:8080/"
        },
        "outputId": "401d995c-7229-4ccf-9075-e1dbc099b6a8"
      },
      "source": [
        "# For us to check accuracy of our algorithm, we need to predict that data set for which we have TARGET available.\n",
        "# Eg predict for Xtrain and check accuracy with TARGET that we have in order to judge our model.\n",
        "\n",
        "X_Pred = dt.predict(Xtrain)\n",
        "#Model Accuracy\n",
        "print(\"Accuracy:\", metrics.accuracy_score(Ytrain,X_Pred)) # here we check the predictions of x train with the target column of x (y train)\n",
        "\n",
        "# This will always result in best score hence we are better of using TrainTestSplit, which can help us take care of"
      ],
      "execution_count": null,
      "outputs": [
        {
          "output_type": "stream",
          "name": "stdout",
          "text": [
            "Accuracy: 1.0\n"
          ]
        }
      ]
    },
    {
      "cell_type": "code",
      "metadata": {
        "id": "RjCK2TJRrkg_",
        "colab": {
          "base_uri": "https://localhost:8080/"
        },
        "outputId": "919cfef5-3fdb-4988-e7f1-d7da4dac236c"
      },
      "source": [
        "# Split dataset - 80:20 split for train and test\n",
        "# RANDOM STATE IS SHUFFELING DATA\n",
        "X_train, X_test, Y_train, Y_test = train_test_split(Xtrain, Ytrain, test_size = .20, random_state = 1)\n",
        "\n",
        "\n",
        "# Fit model on new Train Dataset\n",
        "dt = dt.fit(X_train, Y_train)\n",
        "\n",
        "\n",
        "#Predict the responce on new Test Dataset\n",
        "Y_PredNew = dt.predict(X_test)\n",
        "Y_new = dt.predict(X_train)\n",
        "\n",
        "#Model Accuracy\n",
        "print(\"Training Accuracy:\", metrics.accuracy_score(Y_train, Y_new))\n",
        "print(\"Accuracy:\", metrics.accuracy_score(Y_test,Y_PredNew))"
      ],
      "execution_count": null,
      "outputs": [
        {
          "output_type": "stream",
          "name": "stdout",
          "text": [
            "Training Accuracy: 1.0\n",
            "Accuracy: 0.9294264667192844\n"
          ]
        }
      ]
    },
    {
      "cell_type": "code",
      "metadata": {
        "id": "sraUTgA6rkjd",
        "colab": {
          "base_uri": "https://localhost:8080/"
        },
        "outputId": "b362a056-cc7c-4c4f-dbff-3df34b2f57cc"
      },
      "source": [
        "for i in [5 , 10, 15, 20, 25, 30, 35]:\n",
        "  x_Train, x_test, y_train, y_test = train_test_split(Xtrain, Ytrain, test_size = i*0.01, random_state = 0)\n",
        "  print(\"Accuracy for test split:\", i , metrics.accuracy_score(Y_test, Y_PredNew))\n",
        "# we see that accuracy"
      ],
      "execution_count": null,
      "outputs": [
        {
          "output_type": "stream",
          "name": "stdout",
          "text": [
            "Accuracy for test split: 5 0.9294264667192844\n",
            "Accuracy for test split: 10 0.9294264667192844\n",
            "Accuracy for test split: 15 0.9294264667192844\n",
            "Accuracy for test split: 20 0.9294264667192844\n",
            "Accuracy for test split: 25 0.9294264667192844\n",
            "Accuracy for test split: 30 0.9294264667192844\n",
            "Accuracy for test split: 35 0.9294264667192844\n"
          ]
        }
      ]
    },
    {
      "cell_type": "code",
      "source": [
        "# Actual VS Predicted Matrix and TP,FP,TN,FN evaluation\n",
        "print(metrics.confusion_matrix(Y_test, Y_PredNew))\n",
        "print()\n",
        "print('Printing the precision and recall, among other metrics')\n",
        "\n",
        "print(metrics.classification_report(Y_test, Y_PredNew))"
      ],
      "metadata": {
        "colab": {
          "base_uri": "https://localhost:8080/"
        },
        "id": "2blY5XcoDr2K",
        "outputId": "7387469a-5727-4169-8f42-497c3ff0d4c8"
      },
      "execution_count": null,
      "outputs": [
        {
          "output_type": "stream",
          "name": "stdout",
          "text": [
            "[[14035   566]\n",
            " [  507    96]]\n",
            "\n",
            "Printing the precision and recall, among other metrics\n",
            "              precision    recall  f1-score   support\n",
            "\n",
            "           0       0.97      0.96      0.96     14601\n",
            "           1       0.15      0.16      0.15       603\n",
            "\n",
            "    accuracy                           0.93     15204\n",
            "   macro avg       0.56      0.56      0.56     15204\n",
            "weighted avg       0.93      0.93      0.93     15204\n",
            "\n"
          ]
        }
      ]
    },
    {
      "cell_type": "code",
      "metadata": {
        "id": "R_erQ1QP4o3g",
        "colab": {
          "base_uri": "https://localhost:8080/",
          "height": 1000
        },
        "outputId": "4c92980e-2373-4b16-e2fd-21d89c1e7f34"
      },
      "source": [
        "#Plotting the  Tree\n",
        "tree.plot_tree(dt)"
      ],
      "execution_count": null,
      "outputs": [
        {
          "output_type": "execute_result",
          "data": {
            "text/plain": [
              "[Text(0.4868243243243243, 0.95, 'X[183] <= 2.445\\ngini = 0.076\\nsamples = 60816\\nvalue = [58411, 2405]'),\n",
              " Text(0.2722972972972973, 0.85, 'X[2] <= 27.5\\ngini = 0.162\\nsamples = 17008\\nvalue = [15496, 1512]'),\n",
              " Text(0.12010135135135135, 0.75, 'X[369] <= 57022.035\\ngini = 0.048\\nsamples = 8899\\nvalue = [8680, 219]'),\n",
              " Text(0.062162162162162166, 0.65, 'X[28] <= 0.5\\ngini = 0.11\\nsamples = 1146\\nvalue = [1079, 67]'),\n",
              " Text(0.051351351351351354, 0.55, 'X[5] <= 1323.495\\ngini = 0.106\\nsamples = 1139\\nvalue = [1075, 64]'),\n",
              " Text(0.04594594594594595, 0.45, 'X[369] <= 56961.629\\ngini = 0.105\\nsamples = 1138\\nvalue = [1075, 63]'),\n",
              " Text(0.04054054054054054, 0.35, 'X[2] <= 23.5\\ngini = 0.103\\nsamples = 1137\\nvalue = [1075, 62]'),\n",
              " Text(0.021621621621621623, 0.25, 'X[278] <= 1.5\\ngini = 0.07\\nsamples = 743\\nvalue = [716, 27]'),\n",
              " Text(0.010810810810810811, 0.15, 'X[0] <= 144827.0\\ngini = 0.057\\nsamples = 683\\nvalue = [663, 20]'),\n",
              " Text(0.005405405405405406, 0.05, 'gini = 0.05\\nsamples = 659\\nvalue = [642, 17]'),\n",
              " Text(0.016216216216216217, 0.05, 'gini = 0.219\\nsamples = 24\\nvalue = [21, 3]'),\n",
              " Text(0.032432432432432434, 0.15, 'X[327] <= 1.5\\ngini = 0.206\\nsamples = 60\\nvalue = [53, 7]'),\n",
              " Text(0.02702702702702703, 0.05, 'gini = 0.393\\nsamples = 26\\nvalue = [19, 7]'),\n",
              " Text(0.03783783783783784, 0.05, 'gini = 0.0\\nsamples = 34\\nvalue = [34, 0]'),\n",
              " Text(0.05945945945945946, 0.25, 'X[276] <= 4.5\\ngini = 0.162\\nsamples = 394\\nvalue = [359, 35]'),\n",
              " Text(0.05405405405405406, 0.15, 'X[326] <= 30.0\\ngini = 0.158\\nsamples = 393\\nvalue = [359, 34]'),\n",
              " Text(0.04864864864864865, 0.05, 'gini = 0.155\\nsamples = 391\\nvalue = [358, 33]'),\n",
              " Text(0.05945945945945946, 0.05, 'gini = 0.5\\nsamples = 2\\nvalue = [1, 1]'),\n",
              " Text(0.06486486486486487, 0.15, 'gini = 0.0\\nsamples = 1\\nvalue = [0, 1]'),\n",
              " Text(0.051351351351351354, 0.35, 'gini = 0.0\\nsamples = 1\\nvalue = [0, 1]'),\n",
              " Text(0.05675675675675676, 0.45, 'gini = 0.0\\nsamples = 1\\nvalue = [0, 1]'),\n",
              " Text(0.07297297297297298, 0.55, 'X[2] <= 24.5\\ngini = 0.49\\nsamples = 7\\nvalue = [4, 3]'),\n",
              " Text(0.06756756756756757, 0.45, 'gini = 0.0\\nsamples = 3\\nvalue = [3, 0]'),\n",
              " Text(0.07837837837837838, 0.45, 'X[0] <= 149410.0\\ngini = 0.375\\nsamples = 4\\nvalue = [1, 3]'),\n",
              " Text(0.07297297297297298, 0.35, 'gini = 0.0\\nsamples = 3\\nvalue = [0, 3]'),\n",
              " Text(0.08378378378378379, 0.35, 'gini = 0.0\\nsamples = 1\\nvalue = [1, 0]'),\n",
              " Text(0.17804054054054055, 0.65, 'X[2] <= 25.5\\ngini = 0.038\\nsamples = 7753\\nvalue = [7601, 152]'),\n",
              " Text(0.12837837837837837, 0.55, 'X[191] <= 2.37\\ngini = 0.032\\nsamples = 6544\\nvalue = [6439, 105]'),\n",
              " Text(0.12297297297297298, 0.45, 'X[325] <= 1.5\\ngini = 0.031\\nsamples = 6543\\nvalue = [6439, 104]'),\n",
              " Text(0.1, 0.35, 'X[369] <= 1887146.0\\ngini = 0.027\\nsamples = 5864\\nvalue = [5783, 81]'),\n",
              " Text(0.08648648648648649, 0.25, 'X[369] <= 124683.148\\ngini = 0.027\\nsamples = 5857\\nvalue = [5777, 80]'),\n",
              " Text(0.07567567567567568, 0.15, 'X[369] <= 124665.719\\ngini = 0.033\\nsamples = 3657\\nvalue = [3595, 62]'),\n",
              " Text(0.07027027027027027, 0.05, 'gini = 0.033\\nsamples = 3656\\nvalue = [3595, 61]'),\n",
              " Text(0.08108108108108109, 0.05, 'gini = 0.0\\nsamples = 1\\nvalue = [0, 1]'),\n",
              " Text(0.0972972972972973, 0.15, 'X[276] <= 4.5\\ngini = 0.016\\nsamples = 2200\\nvalue = [2182, 18]'),\n",
              " Text(0.0918918918918919, 0.05, 'gini = 0.015\\nsamples = 2192\\nvalue = [2175, 17]'),\n",
              " Text(0.10270270270270271, 0.05, 'gini = 0.219\\nsamples = 8\\nvalue = [7, 1]'),\n",
              " Text(0.11351351351351352, 0.25, 'X[369] <= 2036400.75\\ngini = 0.245\\nsamples = 7\\nvalue = [6, 1]'),\n",
              " Text(0.10810810810810811, 0.15, 'gini = 0.0\\nsamples = 1\\nvalue = [0, 1]'),\n",
              " Text(0.11891891891891893, 0.15, 'gini = 0.0\\nsamples = 6\\nvalue = [6, 0]'),\n",
              " Text(0.14594594594594595, 0.35, 'X[281] <= 0.5\\ngini = 0.065\\nsamples = 679\\nvalue = [656, 23]'),\n",
              " Text(0.14054054054054055, 0.25, 'X[369] <= 117383.52\\ngini = 0.093\\nsamples = 471\\nvalue = [448, 23]'),\n",
              " Text(0.12972972972972974, 0.15, 'X[0] <= 36259.5\\ngini = 0.13\\nsamples = 286\\nvalue = [266, 20]'),\n",
              " Text(0.12432432432432433, 0.05, 'gini = 0.03\\nsamples = 65\\nvalue = [64, 1]'),\n",
              " Text(0.13513513513513514, 0.05, 'gini = 0.157\\nsamples = 221\\nvalue = [202, 19]'),\n",
              " Text(0.15135135135135136, 0.15, 'X[369] <= 658020.375\\ngini = 0.032\\nsamples = 185\\nvalue = [182, 3]'),\n",
              " Text(0.14594594594594595, 0.05, 'gini = 0.022\\nsamples = 182\\nvalue = [180, 2]'),\n",
              " Text(0.15675675675675677, 0.05, 'gini = 0.444\\nsamples = 3\\nvalue = [2, 1]'),\n",
              " Text(0.15135135135135136, 0.25, 'gini = 0.0\\nsamples = 208\\nvalue = [208, 0]'),\n",
              " Text(0.13378378378378378, 0.45, 'gini = 0.0\\nsamples = 1\\nvalue = [0, 1]'),\n",
              " Text(0.2277027027027027, 0.55, 'X[94] <= 1.5\\ngini = 0.075\\nsamples = 1209\\nvalue = [1162, 47]'),\n",
              " Text(0.20675675675675675, 0.45, 'X[0] <= 151588.0\\ngini = 0.072\\nsamples = 1202\\nvalue = [1157, 45]'),\n",
              " Text(0.1918918918918919, 0.35, 'X[369] <= 146856.727\\ngini = 0.071\\nsamples = 1200\\nvalue = [1156, 44]'),\n",
              " Text(0.1783783783783784, 0.25, 'X[369] <= 146788.266\\ngini = 0.086\\nsamples = 824\\nvalue = [787, 37]'),\n",
              " Text(0.17297297297297298, 0.15, 'X[281] <= 0.5\\ngini = 0.084\\nsamples = 823\\nvalue = [787, 36]'),\n",
              " Text(0.16756756756756758, 0.05, 'gini = 0.095\\nsamples = 723\\nvalue = [687, 36]'),\n",
              " Text(0.1783783783783784, 0.05, 'gini = 0.0\\nsamples = 100\\nvalue = [100, 0]'),\n",
              " Text(0.1837837837837838, 0.15, 'gini = 0.0\\nsamples = 1\\nvalue = [0, 1]'),\n",
              " Text(0.20540540540540542, 0.25, 'X[0] <= 6240.0\\ngini = 0.037\\nsamples = 376\\nvalue = [369, 7]'),\n",
              " Text(0.1945945945945946, 0.15, 'X[0] <= 5832.0\\ngini = 0.278\\nsamples = 12\\nvalue = [10, 2]'),\n",
              " Text(0.1891891891891892, 0.05, 'gini = 0.165\\nsamples = 11\\nvalue = [10, 1]'),\n",
              " Text(0.2, 0.05, 'gini = 0.0\\nsamples = 1\\nvalue = [0, 1]'),\n",
              " Text(0.21621621621621623, 0.15, 'X[277] <= 1.5\\ngini = 0.027\\nsamples = 364\\nvalue = [359, 5]'),\n",
              " Text(0.21081081081081082, 0.05, 'gini = 0.022\\nsamples = 357\\nvalue = [353, 4]'),\n",
              " Text(0.22162162162162163, 0.05, 'gini = 0.245\\nsamples = 7\\nvalue = [6, 1]'),\n",
              " Text(0.22162162162162163, 0.35, 'X[369] <= 91959.164\\ngini = 0.5\\nsamples = 2\\nvalue = [1, 1]'),\n",
              " Text(0.21621621621621623, 0.25, 'gini = 0.0\\nsamples = 1\\nvalue = [0, 1]'),\n",
              " Text(0.22702702702702704, 0.25, 'gini = 0.0\\nsamples = 1\\nvalue = [1, 0]'),\n",
              " Text(0.24864864864864866, 0.45, 'X[324] <= 4.5\\ngini = 0.408\\nsamples = 7\\nvalue = [5, 2]'),\n",
              " Text(0.24324324324324326, 0.35, 'X[369] <= 248576.035\\ngini = 0.278\\nsamples = 6\\nvalue = [5, 1]'),\n",
              " Text(0.23783783783783785, 0.25, 'gini = 0.0\\nsamples = 4\\nvalue = [4, 0]'),\n",
              " Text(0.24864864864864866, 0.25, 'X[30] <= 0.5\\ngini = 0.5\\nsamples = 2\\nvalue = [1, 1]'),\n",
              " Text(0.24324324324324326, 0.15, 'gini = 0.0\\nsamples = 1\\nvalue = [0, 1]'),\n",
              " Text(0.25405405405405407, 0.15, 'gini = 0.0\\nsamples = 1\\nvalue = [1, 0]'),\n",
              " Text(0.25405405405405407, 0.35, 'gini = 0.0\\nsamples = 1\\nvalue = [0, 1]'),\n",
              " Text(0.4244932432432432, 0.75, 'X[369] <= 117563.086\\ngini = 0.268\\nsamples = 8109\\nvalue = [6816, 1293]'),\n",
              " Text(0.38141891891891894, 0.65, 'X[330] <= 3.495\\ngini = 0.3\\nsamples = 6165\\nvalue = [5032, 1133]'),\n",
              " Text(0.3358108108108108, 0.55, 'X[369] <= 73709.492\\ngini = 0.31\\nsamples = 5764\\nvalue = [4660, 1104]'),\n",
              " Text(0.30675675675675673, 0.45, 'X[2] <= 69.5\\ngini = 0.353\\nsamples = 2387\\nvalue = [1840, 547]'),\n",
              " Text(0.2891891891891892, 0.35, 'X[241] <= 80.595\\ngini = 0.359\\nsamples = 2304\\nvalue = [1764, 540]'),\n",
              " Text(0.2756756756756757, 0.25, 'X[327] <= 127.5\\ngini = 0.362\\nsamples = 2271\\nvalue = [1732, 539]'),\n",
              " Text(0.2648648648648649, 0.15, 'X[369] <= 30594.3\\ngini = 0.36\\nsamples = 2262\\nvalue = [1729, 533]'),\n",
              " Text(0.2594594594594595, 0.05, 'gini = 0.436\\nsamples = 187\\nvalue = [127, 60]'),\n",
              " Text(0.2702702702702703, 0.05, 'gini = 0.352\\nsamples = 2075\\nvalue = [1602, 473]'),\n",
              " Text(0.2864864864864865, 0.15, 'X[369] <= 63584.834\\ngini = 0.444\\nsamples = 9\\nvalue = [3, 6]'),\n",
              " Text(0.2810810810810811, 0.05, 'gini = 0.0\\nsamples = 5\\nvalue = [0, 5]'),\n",
              " Text(0.2918918918918919, 0.05, 'gini = 0.375\\nsamples = 4\\nvalue = [3, 1]'),\n",
              " Text(0.3027027027027027, 0.25, 'X[3] <= 975.0\\ngini = 0.059\\nsamples = 33\\nvalue = [32, 1]'),\n",
              " Text(0.2972972972972973, 0.15, 'gini = 0.0\\nsamples = 32\\nvalue = [32, 0]'),\n",
              " Text(0.3081081081081081, 0.15, 'gini = 0.0\\nsamples = 1\\nvalue = [0, 1]'),\n",
              " Text(0.32432432432432434, 0.35, 'X[183] <= -399.24\\ngini = 0.154\\nsamples = 83\\nvalue = [76, 7]'),\n",
              " Text(0.31891891891891894, 0.25, 'gini = 0.0\\nsamples = 1\\nvalue = [0, 1]'),\n",
              " Text(0.32972972972972975, 0.25, 'X[369] <= 21884.34\\ngini = 0.136\\nsamples = 82\\nvalue = [76, 6]'),\n",
              " Text(0.31891891891891894, 0.15, 'X[2] <= 73.5\\ngini = 0.5\\nsamples = 2\\nvalue = [1, 1]'),\n",
              " Text(0.31351351351351353, 0.05, 'gini = 0.0\\nsamples = 1\\nvalue = [1, 0]'),\n",
              " Text(0.32432432432432434, 0.05, 'gini = 0.0\\nsamples = 1\\nvalue = [0, 1]'),\n",
              " Text(0.34054054054054056, 0.15, 'X[369] <= 71494.184\\ngini = 0.117\\nsamples = 80\\nvalue = [75, 5]'),\n",
              " Text(0.33513513513513515, 0.05, 'gini = 0.08\\nsamples = 72\\nvalue = [69, 3]'),\n",
              " Text(0.34594594594594597, 0.05, 'gini = 0.375\\nsamples = 8\\nvalue = [6, 2]'),\n",
              " Text(0.36486486486486486, 0.45, 'X[158] <= 1.5\\ngini = 0.275\\nsamples = 3377\\nvalue = [2820, 557]'),\n",
              " Text(0.35135135135135137, 0.35, 'X[302] <= 25.5\\ngini = 0.019\\nsamples = 106\\nvalue = [105, 1]'),\n",
              " Text(0.34594594594594597, 0.25, 'gini = 0.0\\nsamples = 105\\nvalue = [105, 0]'),\n",
              " Text(0.3567567567567568, 0.25, 'gini = 0.0\\nsamples = 1\\nvalue = [0, 1]'),\n",
              " Text(0.3783783783783784, 0.35, 'X[2] <= 39.5\\ngini = 0.282\\nsamples = 3271\\nvalue = [2715, 556]'),\n",
              " Text(0.3675675675675676, 0.25, 'X[167] <= 2.01\\ngini = 0.248\\nsamples = 1650\\nvalue = [1411, 239]'),\n",
              " Text(0.3621621621621622, 0.15, 'X[2] <= 29.5\\ngini = 0.246\\nsamples = 1648\\nvalue = [1411, 237]'),\n",
              " Text(0.3567567567567568, 0.05, 'gini = 0.171\\nsamples = 329\\nvalue = [298, 31]'),\n",
              " Text(0.3675675675675676, 0.05, 'gini = 0.264\\nsamples = 1319\\nvalue = [1113, 206]'),\n",
              " Text(0.372972972972973, 0.15, 'gini = 0.0\\nsamples = 2\\nvalue = [0, 2]'),\n",
              " Text(0.3891891891891892, 0.25, 'X[164] <= 413.37\\ngini = 0.315\\nsamples = 1621\\nvalue = [1304, 317]'),\n",
              " Text(0.3837837837837838, 0.15, 'X[3] <= 36.0\\ngini = 0.313\\nsamples = 1618\\nvalue = [1304, 314]'),\n",
              " Text(0.3783783783783784, 0.05, 'gini = 0.311\\nsamples = 1613\\nvalue = [1303, 310]'),\n",
              " Text(0.3891891891891892, 0.05, 'gini = 0.32\\nsamples = 5\\nvalue = [1, 4]'),\n",
              " Text(0.3945945945945946, 0.15, 'gini = 0.0\\nsamples = 3\\nvalue = [0, 3]'),\n",
              " Text(0.42702702702702705, 0.55, 'X[325] <= 88.5\\ngini = 0.134\\nsamples = 401\\nvalue = [372, 29]'),\n",
              " Text(0.41621621621621624, 0.45, 'X[18] <= 9640.515\\ngini = 0.115\\nsamples = 392\\nvalue = [368, 24]'),\n",
              " Text(0.41081081081081083, 0.35, 'X[331] <= -154.185\\ngini = 0.111\\nsamples = 391\\nvalue = [368, 23]'),\n",
              " Text(0.40540540540540543, 0.25, 'gini = 0.0\\nsamples = 1\\nvalue = [0, 1]'),\n",
              " Text(0.41621621621621624, 0.25, 'X[194] <= 51.0\\ngini = 0.106\\nsamples = 390\\nvalue = [368, 22]'),\n",
              " Text(0.40540540540540543, 0.15, 'X[165] <= 0.06\\ngini = 0.083\\nsamples = 347\\nvalue = [332, 15]'),\n",
              " Text(0.4, 0.05, 'gini = 0.045\\nsamples = 262\\nvalue = [256, 6]'),\n",
              " Text(0.41081081081081083, 0.05, 'gini = 0.189\\nsamples = 85\\nvalue = [76, 9]'),\n",
              " Text(0.42702702702702705, 0.15, 'X[0] <= 50328.0\\ngini = 0.273\\nsamples = 43\\nvalue = [36, 7]'),\n",
              " Text(0.42162162162162165, 0.05, 'gini = 0.473\\nsamples = 13\\nvalue = [8, 5]'),\n",
              " Text(0.43243243243243246, 0.05, 'gini = 0.124\\nsamples = 30\\nvalue = [28, 2]'),\n",
              " Text(0.42162162162162165, 0.35, 'gini = 0.0\\nsamples = 1\\nvalue = [0, 1]'),\n",
              " Text(0.43783783783783786, 0.45, 'X[127] <= 16.5\\ngini = 0.494\\nsamples = 9\\nvalue = [4, 5]'),\n",
              " Text(0.43243243243243246, 0.35, 'gini = 0.0\\nsamples = 4\\nvalue = [4, 0]'),\n",
              " Text(0.44324324324324327, 0.35, 'gini = 0.0\\nsamples = 5\\nvalue = [0, 5]'),\n",
              " Text(0.46756756756756757, 0.65, 'X[165] <= -151.545\\ngini = 0.151\\nsamples = 1944\\nvalue = [1784, 160]'),\n",
              " Text(0.4540540540540541, 0.55, 'X[188] <= 476.25\\ngini = 0.48\\nsamples = 5\\nvalue = [2, 3]'),\n",
              " Text(0.4486486486486487, 0.45, 'gini = 0.0\\nsamples = 3\\nvalue = [0, 3]'),\n",
              " Text(0.4594594594594595, 0.45, 'gini = 0.0\\nsamples = 2\\nvalue = [2, 0]'),\n",
              " Text(0.4810810810810811, 0.55, 'X[335] <= 75.63\\ngini = 0.149\\nsamples = 1939\\nvalue = [1782, 157]'),\n",
              " Text(0.4702702702702703, 0.45, 'X[19] <= 180.0\\ngini = 0.147\\nsamples = 1936\\nvalue = [1781, 155]'),\n",
              " Text(0.4648648648648649, 0.35, 'X[276] <= 34.5\\ngini = 0.147\\nsamples = 1935\\nvalue = [1781, 154]'),\n",
              " Text(0.4594594594594595, 0.25, 'X[63] <= 0.5\\ngini = 0.146\\nsamples = 1934\\nvalue = [1781, 153]'),\n",
              " Text(0.4540540540540541, 0.15, 'gini = 0.0\\nsamples = 113\\nvalue = [113, 0]'),\n",
              " Text(0.4648648648648649, 0.15, 'X[2] <= 30.5\\ngini = 0.154\\nsamples = 1821\\nvalue = [1668, 153]'),\n",
              " Text(0.4594594594594595, 0.05, 'gini = 0.091\\nsamples = 396\\nvalue = [377, 19]'),\n",
              " Text(0.4702702702702703, 0.05, 'gini = 0.17\\nsamples = 1425\\nvalue = [1291, 134]'),\n",
              " Text(0.4702702702702703, 0.25, 'gini = 0.0\\nsamples = 1\\nvalue = [0, 1]'),\n",
              " Text(0.4756756756756757, 0.35, 'gini = 0.0\\nsamples = 1\\nvalue = [0, 1]'),\n",
              " Text(0.4918918918918919, 0.45, 'X[130] <= 24.0\\ngini = 0.444\\nsamples = 3\\nvalue = [1, 2]'),\n",
              " Text(0.4864864864864865, 0.35, 'gini = 0.0\\nsamples = 2\\nvalue = [0, 2]'),\n",
              " Text(0.4972972972972973, 0.35, 'gini = 0.0\\nsamples = 1\\nvalue = [1, 0]'),\n",
              " Text(0.7013513513513514, 0.85, 'X[2] <= 26.5\\ngini = 0.04\\nsamples = 43808\\nvalue = [42915, 893]'),\n",
              " Text(0.5662162162162162, 0.75, 'X[201] <= 5000000000.0\\ngini = 0.012\\nsamples = 19777\\nvalue = [19662, 115]'),\n",
              " Text(0.5608108108108109, 0.65, 'X[275] <= 33.0\\ngini = 0.011\\nsamples = 19776\\nvalue = [19662, 114]'),\n",
              " Text(0.5554054054054054, 0.55, 'X[274] <= 13.5\\ngini = 0.011\\nsamples = 19775\\nvalue = [19662, 113]'),\n",
              " Text(0.5378378378378378, 0.45, 'X[310] <= 4.5\\ngini = 0.011\\nsamples = 19773\\nvalue = [19661, 112]'),\n",
              " Text(0.518918918918919, 0.35, 'X[2] <= 24.5\\ngini = 0.011\\nsamples = 19771\\nvalue = [19660, 111]'),\n",
              " Text(0.4972972972972973, 0.25, 'X[15] <= 5328.66\\ngini = 0.007\\nsamples = 15464\\nvalue = [15411, 53]'),\n",
              " Text(0.4864864864864865, 0.15, 'X[276] <= 19.5\\ngini = 0.007\\nsamples = 15459\\nvalue = [15407, 52]'),\n",
              " Text(0.4810810810810811, 0.05, 'gini = 0.007\\nsamples = 15453\\nvalue = [15402, 51]'),\n",
              " Text(0.4918918918918919, 0.05, 'gini = 0.278\\nsamples = 6\\nvalue = [5, 1]'),\n",
              " Text(0.5081081081081081, 0.15, 'X[293] <= 16.5\\ngini = 0.32\\nsamples = 5\\nvalue = [4, 1]'),\n",
              " Text(0.5027027027027027, 0.05, 'gini = 0.0\\nsamples = 4\\nvalue = [4, 0]'),\n",
              " Text(0.5135135135135135, 0.05, 'gini = 0.0\\nsamples = 1\\nvalue = [0, 1]'),\n",
              " Text(0.5405405405405406, 0.25, 'X[279] <= 4.5\\ngini = 0.027\\nsamples = 4307\\nvalue = [4249, 58]'),\n",
              " Text(0.5297297297297298, 0.15, 'X[183] <= 3.54\\ngini = 0.025\\nsamples = 4262\\nvalue = [4207, 55]'),\n",
              " Text(0.5243243243243243, 0.05, 'gini = 0.035\\nsamples = 2672\\nvalue = [2625, 47]'),\n",
              " Text(0.5351351351351351, 0.05, 'gini = 0.01\\nsamples = 1590\\nvalue = [1582, 8]'),\n",
              " Text(0.5513513513513514, 0.15, 'X[0] <= 112335.0\\ngini = 0.124\\nsamples = 45\\nvalue = [42, 3]'),\n",
              " Text(0.5459459459459459, 0.05, 'gini = 0.0\\nsamples = 33\\nvalue = [33, 0]'),\n",
              " Text(0.5567567567567567, 0.05, 'gini = 0.375\\nsamples = 12\\nvalue = [9, 3]'),\n",
              " Text(0.5567567567567567, 0.35, 'X[302] <= 1.5\\ngini = 0.5\\nsamples = 2\\nvalue = [1, 1]'),\n",
              " Text(0.5513513513513514, 0.25, 'gini = 0.0\\nsamples = 1\\nvalue = [1, 0]'),\n",
              " Text(0.5621621621621622, 0.25, 'gini = 0.0\\nsamples = 1\\nvalue = [0, 1]'),\n",
              " Text(0.572972972972973, 0.45, 'X[325] <= 1.5\\ngini = 0.5\\nsamples = 2\\nvalue = [1, 1]'),\n",
              " Text(0.5675675675675675, 0.35, 'gini = 0.0\\nsamples = 1\\nvalue = [0, 1]'),\n",
              " Text(0.5783783783783784, 0.35, 'gini = 0.0\\nsamples = 1\\nvalue = [1, 0]'),\n",
              " Text(0.5662162162162162, 0.55, 'gini = 0.0\\nsamples = 1\\nvalue = [0, 1]'),\n",
              " Text(0.5716216216216217, 0.65, 'gini = 0.0\\nsamples = 1\\nvalue = [0, 1]'),\n",
              " Text(0.8364864864864865, 0.75, 'X[183] <= 396.885\\ngini = 0.063\\nsamples = 24031\\nvalue = [23253, 778]'),\n",
              " Text(0.7364864864864865, 0.65, 'X[335] <= 3.795\\ngini = 0.094\\nsamples = 11683\\nvalue = [11104, 579]'),\n",
              " Text(0.643918918918919, 0.55, 'X[2] <= 36.5\\ngini = 0.086\\nsamples = 11314\\nvalue = [10803, 511]'),\n",
              " Text(0.6, 0.45, 'X[275] <= 31.5\\ngini = 0.06\\nsamples = 6784\\nvalue = [6573, 211]'),\n",
              " Text(0.5891891891891892, 0.35, 'X[67] <= 0.5\\ngini = 0.06\\nsamples = 6781\\nvalue = [6572, 209]'),\n",
              " Text(0.5837837837837838, 0.25, 'X[17] <= 5460.0\\ngini = 0.059\\nsamples = 6780\\nvalue = [6572, 208]'),\n",
              " Text(0.572972972972973, 0.15, 'X[131] <= 133.5\\ngini = 0.059\\nsamples = 6774\\nvalue = [6568, 206]'),\n",
              " Text(0.5675675675675675, 0.05, 'gini = 0.058\\nsamples = 6768\\nvalue = [6564, 204]'),\n",
              " Text(0.5783783783783784, 0.05, 'gini = 0.444\\nsamples = 6\\nvalue = [4, 2]'),\n",
              " Text(0.5945945945945946, 0.15, 'X[332] <= 344.34\\ngini = 0.444\\nsamples = 6\\nvalue = [4, 2]'),\n",
              " Text(0.5891891891891892, 0.05, 'gini = 0.0\\nsamples = 2\\nvalue = [0, 2]'),\n",
              " Text(0.6, 0.05, 'gini = 0.0\\nsamples = 4\\nvalue = [4, 0]'),\n",
              " Text(0.5945945945945946, 0.25, 'gini = 0.0\\nsamples = 1\\nvalue = [0, 1]'),\n",
              " Text(0.6108108108108108, 0.35, 'X[275] <= 40.5\\ngini = 0.444\\nsamples = 3\\nvalue = [1, 2]'),\n",
              " Text(0.6054054054054054, 0.25, 'gini = 0.0\\nsamples = 2\\nvalue = [0, 2]'),\n",
              " Text(0.6162162162162163, 0.25, 'gini = 0.0\\nsamples = 1\\nvalue = [1, 0]'),\n",
              " Text(0.6878378378378378, 0.45, 'X[331] <= 43.335\\ngini = 0.124\\nsamples = 4530\\nvalue = [4230, 300]'),\n",
              " Text(0.6486486486486487, 0.35, 'X[11] <= 5.91\\ngini = 0.166\\nsamples = 2021\\nvalue = [1836, 185]'),\n",
              " Text(0.6270270270270271, 0.25, 'X[331] <= 41.835\\ngini = 0.152\\nsamples = 1911\\nvalue = [1753, 158]'),\n",
              " Text(0.6162162162162163, 0.15, 'X[278] <= 4.5\\ngini = 0.149\\nsamples = 1905\\nvalue = [1750, 155]'),\n",
              " Text(0.6108108108108108, 0.05, 'gini = 0.124\\nsamples = 1296\\nvalue = [1210, 86]'),\n",
              " Text(0.6216216216216216, 0.05, 'gini = 0.201\\nsamples = 609\\nvalue = [540, 69]'),\n",
              " Text(0.6378378378378379, 0.15, 'X[329] <= 18.555\\ngini = 0.5\\nsamples = 6\\nvalue = [3, 3]'),\n",
              " Text(0.6324324324324324, 0.05, 'gini = 0.0\\nsamples = 3\\nvalue = [3, 0]'),\n",
              " Text(0.6432432432432432, 0.05, 'gini = 0.0\\nsamples = 3\\nvalue = [0, 3]'),\n",
              " Text(0.6702702702702703, 0.25, 'X[188] <= 4.35\\ngini = 0.37\\nsamples = 110\\nvalue = [83, 27]'),\n",
              " Text(0.6594594594594595, 0.15, 'X[159] <= 4.5\\ngini = 0.304\\nsamples = 91\\nvalue = [74, 17]'),\n",
              " Text(0.654054054054054, 0.05, 'gini = 0.28\\nsamples = 89\\nvalue = [74, 15]'),\n",
              " Text(0.6648648648648648, 0.05, 'gini = 0.0\\nsamples = 2\\nvalue = [0, 2]'),\n",
              " Text(0.6810810810810811, 0.15, 'X[165] <= 23.895\\ngini = 0.499\\nsamples = 19\\nvalue = [9, 10]'),\n",
              " Text(0.6756756756756757, 0.05, 'gini = 0.375\\nsamples = 12\\nvalue = [3, 9]'),\n",
              " Text(0.6864864864864865, 0.05, 'gini = 0.245\\nsamples = 7\\nvalue = [6, 1]'),\n",
              " Text(0.727027027027027, 0.35, 'X[277] <= 22.5\\ngini = 0.087\\nsamples = 2509\\nvalue = [2394, 115]'),\n",
              " Text(0.7135135135135136, 0.25, 'X[13] <= 945.0\\ngini = 0.085\\nsamples = 2503\\nvalue = [2392, 111]'),\n",
              " Text(0.7027027027027027, 0.15, 'X[261] <= 1350.0\\ngini = 0.077\\nsamples = 2408\\nvalue = [2311, 97]'),\n",
              " Text(0.6972972972972973, 0.05, 'gini = 0.076\\nsamples = 2406\\nvalue = [2311, 95]'),\n",
              " Text(0.7081081081081081, 0.05, 'gini = 0.0\\nsamples = 2\\nvalue = [0, 2]'),\n",
              " Text(0.7243243243243244, 0.15, 'X[324] <= 16.5\\ngini = 0.251\\nsamples = 95\\nvalue = [81, 14]'),\n",
              " Text(0.7189189189189189, 0.05, 'gini = 0.097\\nsamples = 59\\nvalue = [56, 3]'),\n",
              " Text(0.7297297297297297, 0.05, 'gini = 0.424\\nsamples = 36\\nvalue = [25, 11]'),\n",
              " Text(0.7405405405405405, 0.25, 'X[183] <= 112.65\\ngini = 0.444\\nsamples = 6\\nvalue = [2, 4]'),\n",
              " Text(0.7351351351351352, 0.15, 'gini = 0.0\\nsamples = 4\\nvalue = [0, 4]'),\n",
              " Text(0.745945945945946, 0.15, 'gini = 0.0\\nsamples = 2\\nvalue = [2, 0]'),\n",
              " Text(0.8290540540540541, 0.55, 'X[18] <= 3050.745\\ngini = 0.301\\nsamples = 369\\nvalue = [301, 68]'),\n",
              " Text(0.8040540540540541, 0.45, 'X[3] <= 397.5\\ngini = 0.25\\nsamples = 341\\nvalue = [291, 50]'),\n",
              " Text(0.7864864864864864, 0.35, 'X[279] <= 7.5\\ngini = 0.234\\nsamples = 333\\nvalue = [288, 45]'),\n",
              " Text(0.7675675675675676, 0.25, 'X[336] <= 10.14\\ngini = 0.21\\nsamples = 318\\nvalue = [280, 38]'),\n",
              " Text(0.7567567567567568, 0.15, 'X[369] <= 104981.91\\ngini = 0.494\\nsamples = 9\\nvalue = [4, 5]'),\n",
              " Text(0.7513513513513513, 0.05, 'gini = 0.278\\nsamples = 6\\nvalue = [1, 5]'),\n",
              " Text(0.7621621621621621, 0.05, 'gini = 0.0\\nsamples = 3\\nvalue = [3, 0]'),\n",
              " Text(0.7783783783783784, 0.15, 'X[185] <= 3188.085\\ngini = 0.191\\nsamples = 309\\nvalue = [276, 33]'),\n",
              " Text(0.772972972972973, 0.05, 'gini = 0.186\\nsamples = 308\\nvalue = [276, 32]'),\n",
              " Text(0.7837837837837838, 0.05, 'gini = 0.0\\nsamples = 1\\nvalue = [0, 1]'),\n",
              " Text(0.8054054054054054, 0.25, 'X[16] <= 1005.0\\ngini = 0.498\\nsamples = 15\\nvalue = [8, 7]'),\n",
              " Text(0.8, 0.15, 'X[326] <= 4.5\\ngini = 0.397\\nsamples = 11\\nvalue = [8, 3]'),\n",
              " Text(0.7945945945945946, 0.05, 'gini = 0.0\\nsamples = 2\\nvalue = [0, 2]'),\n",
              " Text(0.8054054054054054, 0.05, 'gini = 0.198\\nsamples = 9\\nvalue = [8, 1]'),\n",
              " Text(0.8108108108108109, 0.15, 'gini = 0.0\\nsamples = 4\\nvalue = [0, 4]'),\n",
              " Text(0.8216216216216217, 0.35, 'X[14] <= 195.0\\ngini = 0.469\\nsamples = 8\\nvalue = [3, 5]'),\n",
              " Text(0.8162162162162162, 0.25, 'gini = 0.0\\nsamples = 3\\nvalue = [3, 0]'),\n",
              " Text(0.827027027027027, 0.25, 'gini = 0.0\\nsamples = 5\\nvalue = [0, 5]'),\n",
              " Text(0.8540540540540541, 0.45, 'X[131] <= 94.5\\ngini = 0.459\\nsamples = 28\\nvalue = [10, 18]'),\n",
              " Text(0.8486486486486486, 0.35, 'X[5] <= 28.83\\ngini = 0.375\\nsamples = 24\\nvalue = [6, 18]'),\n",
              " Text(0.8378378378378378, 0.25, 'X[302] <= 10.5\\ngini = 0.469\\nsamples = 8\\nvalue = [5, 3]'),\n",
              " Text(0.8324324324324325, 0.15, 'X[312] <= 4.5\\ngini = 0.375\\nsamples = 4\\nvalue = [1, 3]'),\n",
              " Text(0.827027027027027, 0.05, 'gini = 0.0\\nsamples = 3\\nvalue = [0, 3]'),\n",
              " Text(0.8378378378378378, 0.05, 'gini = 0.0\\nsamples = 1\\nvalue = [1, 0]'),\n",
              " Text(0.8432432432432433, 0.15, 'gini = 0.0\\nsamples = 4\\nvalue = [4, 0]'),\n",
              " Text(0.8594594594594595, 0.25, 'X[369] <= 34254.705\\ngini = 0.117\\nsamples = 16\\nvalue = [1, 15]'),\n",
              " Text(0.8540540540540541, 0.15, 'gini = 0.0\\nsamples = 1\\nvalue = [1, 0]'),\n",
              " Text(0.8648648648648649, 0.15, 'gini = 0.0\\nsamples = 15\\nvalue = [0, 15]'),\n",
              " Text(0.8594594594594595, 0.35, 'gini = 0.0\\nsamples = 4\\nvalue = [4, 0]'),\n",
              " Text(0.9364864864864865, 0.65, 'X[15] <= 3082.14\\ngini = 0.032\\nsamples = 12348\\nvalue = [12149, 199]'),\n",
              " Text(0.9054054054054054, 0.55, 'X[356] <= 255667.203\\ngini = 0.028\\nsamples = 12023\\nvalue = [11853, 170]'),\n",
              " Text(0.9, 0.45, 'X[153] <= 4.5\\ngini = 0.028\\nsamples = 12022\\nvalue = [11853, 169]'),\n",
              " Text(0.8945945945945946, 0.35, 'X[369] <= 14188.815\\ngini = 0.028\\nsamples = 12021\\nvalue = [11853, 168]'),\n",
              " Text(0.8810810810810811, 0.25, 'X[369] <= 11518.965\\ngini = 0.5\\nsamples = 4\\nvalue = [2, 2]'),\n",
              " Text(0.8756756756756757, 0.15, 'gini = 0.0\\nsamples = 2\\nvalue = [2, 0]'),\n",
              " Text(0.8864864864864865, 0.15, 'gini = 0.0\\nsamples = 2\\nvalue = [0, 2]'),\n",
              " Text(0.9081081081081082, 0.25, 'X[183] <= 3112.815\\ngini = 0.027\\nsamples = 12017\\nvalue = [11851, 166]'),\n",
              " Text(0.8972972972972973, 0.15, 'X[277] <= 13.5\\ngini = 0.047\\nsamples = 4460\\nvalue = [4352, 108]'),\n",
              " Text(0.8918918918918919, 0.05, 'gini = 0.044\\nsamples = 4403\\nvalue = [4305, 98]'),\n",
              " Text(0.9027027027027027, 0.05, 'gini = 0.289\\nsamples = 57\\nvalue = [47, 10]'),\n",
              " Text(0.918918918918919, 0.15, 'X[3] <= 47520.0\\ngini = 0.015\\nsamples = 7557\\nvalue = [7499, 58]'),\n",
              " Text(0.9135135135135135, 0.05, 'gini = 0.015\\nsamples = 7547\\nvalue = [7491, 56]'),\n",
              " Text(0.9243243243243243, 0.05, 'gini = 0.32\\nsamples = 10\\nvalue = [8, 2]'),\n",
              " Text(0.9054054054054054, 0.35, 'gini = 0.0\\nsamples = 1\\nvalue = [0, 1]'),\n",
              " Text(0.9108108108108108, 0.45, 'gini = 0.0\\nsamples = 1\\nvalue = [0, 1]'),\n",
              " Text(0.9675675675675676, 0.55, 'X[0] <= 18437.5\\ngini = 0.163\\nsamples = 325\\nvalue = [296, 29]'),\n",
              " Text(0.9567567567567568, 0.45, 'X[151] <= 4.5\\ngini = 0.408\\nsamples = 35\\nvalue = [25, 10]'),\n",
              " Text(0.9513513513513514, 0.35, 'X[183] <= 9748.035\\ngini = 0.5\\nsamples = 20\\nvalue = [10, 10]'),\n",
              " Text(0.9459459459459459, 0.25, 'X[369] <= 222101.414\\ngini = 0.408\\nsamples = 14\\nvalue = [4, 10]'),\n",
              " Text(0.9405405405405406, 0.15, 'X[293] <= 1.5\\ngini = 0.278\\nsamples = 12\\nvalue = [2, 10]'),\n",
              " Text(0.9351351351351351, 0.05, 'gini = 0.0\\nsamples = 1\\nvalue = [1, 0]'),\n",
              " Text(0.9459459459459459, 0.05, 'gini = 0.165\\nsamples = 11\\nvalue = [1, 10]'),\n",
              " Text(0.9513513513513514, 0.15, 'gini = 0.0\\nsamples = 2\\nvalue = [2, 0]'),\n",
              " Text(0.9567567567567568, 0.25, 'gini = 0.0\\nsamples = 6\\nvalue = [6, 0]'),\n",
              " Text(0.9621621621621622, 0.35, 'gini = 0.0\\nsamples = 15\\nvalue = [15, 0]'),\n",
              " Text(0.9783783783783784, 0.45, 'X[165] <= -309.66\\ngini = 0.122\\nsamples = 290\\nvalue = [271, 19]'),\n",
              " Text(0.972972972972973, 0.35, 'gini = 0.0\\nsamples = 1\\nvalue = [0, 1]'),\n",
              " Text(0.9837837837837838, 0.35, 'X[150] <= 37.5\\ngini = 0.117\\nsamples = 289\\nvalue = [271, 18]'),\n",
              " Text(0.9783783783783784, 0.25, 'X[369] <= 48406.711\\ngini = 0.111\\nsamples = 288\\nvalue = [271, 17]'),\n",
              " Text(0.9675675675675676, 0.15, 'X[2] <= 47.5\\ngini = 0.365\\nsamples = 25\\nvalue = [19, 6]'),\n",
              " Text(0.9621621621621622, 0.05, 'gini = 0.18\\nsamples = 20\\nvalue = [18, 2]'),\n",
              " Text(0.972972972972973, 0.05, 'gini = 0.32\\nsamples = 5\\nvalue = [1, 4]'),\n",
              " Text(0.9891891891891892, 0.15, 'X[8] <= 1035.0\\ngini = 0.08\\nsamples = 263\\nvalue = [252, 11]'),\n",
              " Text(0.9837837837837838, 0.05, 'gini = 0.073\\nsamples = 262\\nvalue = [252, 10]'),\n",
              " Text(0.9945945945945946, 0.05, 'gini = 0.0\\nsamples = 1\\nvalue = [0, 1]'),\n",
              " Text(0.9891891891891892, 0.25, 'gini = 0.0\\nsamples = 1\\nvalue = [0, 1]')]"
            ]
          },
          "metadata": {},
          "execution_count": 68
        },
        {
          "output_type": "display_data",
          "data": {
            "text/plain": [
              "<Figure size 432x288 with 1 Axes>"
            ],
            "image/png": "[encoded data removed]"
          },
          "metadata": {
            "needs_background": "light"
          }
        }
      ]
    },
    {
      "cell_type": "code",
      "source": [],
      "metadata": {
        "id": "9CxHemUBd7RL"
      },
      "execution_count": null,
      "outputs": []
    },
    {
      "cell_type": "code",
      "source": [
        "#predicting target for test data set provided by kaggle\n",
        "\n",
        "test = dt.predict(testData)\n",
        "print(test)\n",
        "\n",
        "\n"
      ],
      "metadata": {
        "colab": {
          "base_uri": "https://localhost:8080/"
        },
        "id": "ZWdFZn_Ii6RK",
        "outputId": "74c99523-7f9f-4e60-9a89-c917c59cf5db"
      },
      "execution_count": null,
      "outputs": [
        {
          "output_type": "stream",
          "name": "stdout",
          "text": [
            "[0 0 0 ... 0 0 0]\n"
          ]
        }
      ]
    },
    {
      "cell_type": "code",
      "source": [
        "# printing the ID to a submissions file\n",
        "\n",
        "submission = testData[[\"ID\"]]\n",
        "print (submission)\n"
      ],
      "metadata": {
        "colab": {
          "base_uri": "https://localhost:8080/"
        },
        "id": "piAu0P3JmVui",
        "outputId": "3972178c-70c0-46cb-9806-14da79cbdb65"
      },
      "execution_count": null,
      "outputs": [
        {
          "output_type": "stream",
          "name": "stdout",
          "text": [
            "           ID\n",
            "0           2\n",
            "1           5\n",
            "2           6\n",
            "3           7\n",
            "4           9\n",
            "...       ...\n",
            "75813  151831\n",
            "75814  151832\n",
            "75815  151833\n",
            "75816  151834\n",
            "75817  151837\n",
            "\n",
            "[75818 rows x 1 columns]\n"
          ]
        }
      ]
    },
    {
      "cell_type": "code",
      "source": [
        "# Printing. the target to a submissions file and writing the submissions to a csv file called results _test\n",
        "submission[\"TARGET\"]= test\n",
        "print(submission)\n",
        "submission.to_csv(\"/gdrive/My Drive/results_test.csv\", index = None)"
      ],
      "metadata": {
        "colab": {
          "base_uri": "https://localhost:8080/"
        },
        "id": "CELbbbWPmqkc",
        "outputId": "e96b697b-ff1c-48c3-852f-740286d2b6fa"
      },
      "execution_count": null,
      "outputs": [
        {
          "output_type": "stream",
          "name": "stdout",
          "text": [
            "           ID  TARGET\n",
            "0           2       0\n",
            "1           5       0\n",
            "2           6       0\n",
            "3           7       0\n",
            "4           9       0\n",
            "...       ...     ...\n",
            "75813  151831       0\n",
            "75814  151832       0\n",
            "75815  151833       0\n",
            "75816  151834       0\n",
            "75817  151837       0\n",
            "\n",
            "[75818 rows x 2 columns]\n"
          ]
        },
        {
          "output_type": "stream",
          "name": "stderr",
          "text": [
            "/usr/local/lib/python3.7/dist-packages/ipykernel_launcher.py:1: SettingWithCopyWarning: \n",
            "A value is trying to be set on a copy of a slice from a DataFrame.\n",
            "Try using .loc[row_indexer,col_indexer] = value instead\n",
            "\n",
            "See the caveats in the documentation: https://pandas.pydata.org/pandas-docs/stable/user_guide/indexing.html#returning-a-view-versus-a-copy\n",
            "  \"\"\"Entry point for launching an IPython kernel.\n"
          ]
        }
      ]
    },
    {
      "cell_type": "code",
      "source": [
        "#Write into a file with actual prediction and corresponding probability\n",
        "pred = pd.DataFrame(dt.predict(X_train),columns=['Prediction'])\n",
        "pd.concat([pred,pred_Probability],axis=1).to_csv(\"/gdrive/My Drive/results.csv\", index = None)\n",
        "\n",
        "res=pd.read_csv('/gdrive/My Drive/results.csv')\n",
        "res.head()"
      ],
      "metadata": {
        "id": "1Dr2DoHWm-qG"
      },
      "execution_count": null,
      "outputs": []
    },
    {
      "cell_type": "code",
      "source": [
        "# Now we will pre process the data\n",
        "\n",
        "\n",
        "\n",
        "# List of values to try for max_depth:\n",
        "max_depth_range = list(range(1, 10))\n",
        "# List to store the accuracy for each value of max_depth:\n",
        "accuracy = []\n",
        "for depth in max_depth_range:\n",
        "\n",
        "    dt = DecisionTreeClassifier(max_depth = depth,\n",
        "                             random_state = 0)\n",
        "    dt.fit(X_train, Y_train)\n",
        "    score = dt.score(X_test, Y_test)\n",
        "    accuracy.append(score)\n",
        "    print(score)\n",
        "\n",
        "# looking at the accuracy for all depth levels, we see that 4 will be a resonable good depth level"
      ],
      "metadata": {
        "id": "V1EWEPpbqvQP",
        "colab": {
          "base_uri": "https://localhost:8080/"
        },
        "outputId": "d023aecb-cb47-4d1d-c331-883be23488a8"
      },
      "execution_count": null,
      "outputs": [
        {
          "output_type": "stream",
          "name": "stdout",
          "text": [
            "0.9603393843725335\n",
            "0.9603393843725335\n",
            "0.9602736122073139\n",
            "0.9603393843725335\n",
            "0.9601420678768745\n",
            "0.9596158905551171\n",
            "0.959221257563799\n",
            "0.9585635359116023\n",
            "0.9581031307550645\n"
          ]
        }
      ]
    },
    {
      "cell_type": "code",
      "source": [
        "dt1 = DecisionTreeClassifier(criterion='entropy', splitter='best',\n",
        "                             max_depth=4, min_samples_split=3, min_samples_leaf=1, min_weight_fraction_leaf=0.0,\n",
        "                             random_state=10,min_impurity_decrease=0.0)\n",
        "\n",
        "\n",
        "\n"
      ],
      "metadata": {
        "id": "aDJQpsSTdMFI"
      },
      "execution_count": null,
      "outputs": []
    },
    {
      "cell_type": "code",
      "source": [
        "dt1.fit(X_train, Y_train)\n",
        "\n",
        "#Predict the responce on new Test Dataset\n",
        "Y_PredNew1 = dt1.predict(X_test)\n",
        "Y_new1 = dt1.predict(X_train)\n",
        "\n",
        "#Model Accuracy\n",
        "print(\"Training Accuracy:\", metrics.accuracy_score(Y_train, Y_new1))\n",
        "print(\"Accuracy:\", metrics.accuracy_score(Y_test,Y_PredNew1))\n"
      ],
      "metadata": {
        "colab": {
          "base_uri": "https://localhost:8080/"
        },
        "id": "0Hofg1c0q-PQ",
        "outputId": "c4b99056-8d7a-414a-cdb8-f0edaf8ca19e"
      },
      "execution_count": null,
      "outputs": [
        {
          "output_type": "stream",
          "name": "stdout",
          "text": [
            "Training Accuracy: 0.960454485661668\n",
            "Accuracy: 0.9603393843725335\n"
          ]
        }
      ]
    },
    {
      "cell_type": "code",
      "source": [
        "#Plotting the  Tree\n",
        "tree.plot_tree(dt1)"
      ],
      "metadata": {
        "id": "3U2vjo8Rxs8Z",
        "colab": {
          "base_uri": "https://localhost:8080/",
          "height": 802
        },
        "outputId": "f99c3263-bf8e-4a5a-ac17-753a557be603"
      },
      "execution_count": null,
      "outputs": [
        {
          "output_type": "execute_result",
          "data": {
            "text/plain": [
              "[Text(0.5, 0.9, 'X[183] <= 2.445\\nentropy = 0.24\\nsamples = 60816\\nvalue = [58411, 2405]'),\n",
              " Text(0.25, 0.7, 'X[2] <= 27.5\\nentropy = 0.433\\nsamples = 17008\\nvalue = [15496, 1512]'),\n",
              " Text(0.125, 0.5, 'X[369] <= 57022.035\\nentropy = 0.167\\nsamples = 8899\\nvalue = [8680, 219]'),\n",
              " Text(0.0625, 0.3, 'X[2] <= 23.5\\nentropy = 0.321\\nsamples = 1146\\nvalue = [1079, 67]'),\n",
              " Text(0.03125, 0.1, 'entropy = 0.237\\nsamples = 748\\nvalue = [719, 29]'),\n",
              " Text(0.09375, 0.1, 'entropy = 0.454\\nsamples = 398\\nvalue = [360, 38]'),\n",
              " Text(0.1875, 0.3, 'X[2] <= 24.5\\nentropy = 0.139\\nsamples = 7753\\nvalue = [7601, 152]'),\n",
              " Text(0.15625, 0.1, 'entropy = 0.111\\nsamples = 5717\\nvalue = [5633, 84]'),\n",
              " Text(0.21875, 0.1, 'entropy = 0.211\\nsamples = 2036\\nvalue = [1968, 68]'),\n",
              " Text(0.375, 0.5, 'X[369] <= 117563.086\\nentropy = 0.633\\nsamples = 8109\\nvalue = [6816, 1293]'),\n",
              " Text(0.3125, 0.3, 'X[330] <= 3.495\\nentropy = 0.688\\nsamples = 6165\\nvalue = [5032, 1133]'),\n",
              " Text(0.28125, 0.1, 'entropy = 0.705\\nsamples = 5764\\nvalue = [4660, 1104]'),\n",
              " Text(0.34375, 0.1, 'entropy = 0.375\\nsamples = 401\\nvalue = [372, 29]'),\n",
              " Text(0.4375, 0.3, 'X[63] <= 0.5\\nentropy = 0.41\\nsamples = 1944\\nvalue = [1784, 160]'),\n",
              " Text(0.40625, 0.1, 'entropy = 0.0\\nsamples = 113\\nvalue = [113, 0]'),\n",
              " Text(0.46875, 0.1, 'entropy = 0.428\\nsamples = 1831\\nvalue = [1671, 160]'),\n",
              " Text(0.75, 0.7, 'X[2] <= 25.5\\nentropy = 0.144\\nsamples = 43808\\nvalue = [42915, 893]'),\n",
              " Text(0.625, 0.5, 'X[2] <= 23.5\\nentropy = 0.042\\nsamples = 17863\\nvalue = [17782, 81]'),\n",
              " Text(0.5625, 0.3, 'X[324] <= 4.5\\nentropy = 0.023\\nsamples = 11789\\nvalue = [11762, 27]'),\n",
              " Text(0.53125, 0.1, 'entropy = 0.016\\nsamples = 10396\\nvalue = [10381, 15]'),\n",
              " Text(0.59375, 0.1, 'entropy = 0.071\\nsamples = 1393\\nvalue = [1381, 12]'),\n",
              " Text(0.6875, 0.3, 'X[278] <= 31.5\\nentropy = 0.073\\nsamples = 6074\\nvalue = [6020, 54]'),\n",
              " Text(0.65625, 0.1, 'entropy = 0.071\\nsamples = 6070\\nvalue = [6018, 52]'),\n",
              " Text(0.71875, 0.1, 'entropy = 1.0\\nsamples = 4\\nvalue = [2, 2]'),\n",
              " Text(0.875, 0.5, 'X[183] <= 3110.205\\nentropy = 0.201\\nsamples = 25945\\nvalue = [25133, 812]'),\n",
              " Text(0.8125, 0.3, 'X[2] <= 36.5\\nentropy = 0.245\\nsamples = 18141\\nvalue = [17406, 735]'),\n",
              " Text(0.78125, 0.1, 'entropy = 0.183\\nsamples = 10659\\nvalue = [10364, 295]'),\n",
              " Text(0.84375, 0.1, 'entropy = 0.323\\nsamples = 7482\\nvalue = [7042, 440]'),\n",
              " Text(0.9375, 0.3, 'X[15] <= 3075.765\\nentropy = 0.08\\nsamples = 7804\\nvalue = [7727, 77]'),\n",
              " Text(0.90625, 0.1, 'entropy = 0.067\\nsamples = 7592\\nvalue = [7532, 60]'),\n",
              " Text(0.96875, 0.1, 'entropy = 0.403\\nsamples = 212\\nvalue = [195, 17]')]"
            ]
          },
          "metadata": {},
          "execution_count": 76
        },
        {
          "output_type": "display_data",
          "data": {
            "text/plain": [
              "<Figure size 432x288 with 1 Axes>"
            ],
            "image/png": "[encoded data removed]"
          },
          "metadata": {
            "needs_background": "light"
          }
        }
      ]
    },
    {
      "cell_type": "code",
      "source": [
        "# Actual VS Predicted Matrix and TP,FP,TN,FN evaluation for dt1\n",
        "print(metrics.confusion_matrix(Y_test, Y_PredNew1))\n",
        "print()\n",
        "print('Printing the precision and recall, among other metrics')\n",
        "\n",
        "print(metrics.classification_report(Y_test, Y_PredNew1))\n"
      ],
      "metadata": {
        "colab": {
          "base_uri": "https://localhost:8080/"
        },
        "id": "h4v_KAG4yWSR",
        "outputId": "041ab2d0-57a0-46a1-a938-38b9dd6ba060"
      },
      "execution_count": null,
      "outputs": [
        {
          "output_type": "stream",
          "name": "stdout",
          "text": [
            "[[14601     0]\n",
            " [  603     0]]\n",
            "\n",
            "Printing the precision and recall, among other metrics\n",
            "              precision    recall  f1-score   support\n",
            "\n",
            "           0       0.96      1.00      0.98     14601\n",
            "           1       0.00      0.00      0.00       603\n",
            "\n",
            "    accuracy                           0.96     15204\n",
            "   macro avg       0.48      0.50      0.49     15204\n",
            "weighted avg       0.92      0.96      0.94     15204\n",
            "\n"
          ]
        },
        {
          "output_type": "stream",
          "name": "stderr",
          "text": [
            "/usr/local/lib/python3.7/dist-packages/sklearn/metrics/_classification.py:1318: UndefinedMetricWarning: Precision and F-score are ill-defined and being set to 0.0 in labels with no predicted samples. Use `zero_division` parameter to control this behavior.\n",
            "  _warn_prf(average, modifier, msg_start, len(result))\n",
            "/usr/local/lib/python3.7/dist-packages/sklearn/metrics/_classification.py:1318: UndefinedMetricWarning: Precision and F-score are ill-defined and being set to 0.0 in labels with no predicted samples. Use `zero_division` parameter to control this behavior.\n",
            "  _warn_prf(average, modifier, msg_start, len(result))\n",
            "/usr/local/lib/python3.7/dist-packages/sklearn/metrics/_classification.py:1318: UndefinedMetricWarning: Precision and F-score are ill-defined and being set to 0.0 in labels with no predicted samples. Use `zero_division` parameter to control this behavior.\n",
            "  _warn_prf(average, modifier, msg_start, len(result))\n"
          ]
        }
      ]
    },
    {
      "cell_type": "code",
      "source": [
        "# testing on the test data file to get a prediction\n",
        "test1 = dt1.predict(testData)\n",
        "print(test1)\n",
        "\n",
        "# printing the ID to a submissions file\n",
        "\n",
        "submission2 = testData[[\"ID\"]]\n",
        "print (submission2)\n",
        "\n",
        "# Printing. the target to a submissions file and writing the submissions to a csv file called results _dt2\n",
        "submission2[\"TARGET\"]= test1\n",
        "print(submission2)\n",
        "submission2.to_csv(\"/gdrive/My Drive/results_dt1.csv\", index = None)"
      ],
      "metadata": {
        "colab": {
          "base_uri": "https://localhost:8080/"
        },
        "id": "6s_-4dVAzL3Y",
        "outputId": "d55aa2d5-91dc-46ef-dc40-0521b0563a9d"
      },
      "execution_count": null,
      "outputs": [
        {
          "output_type": "stream",
          "name": "stdout",
          "text": [
            "[0 0 0 ... 0 0 0]\n",
            "           ID\n",
            "0           2\n",
            "1           5\n",
            "2           6\n",
            "3           7\n",
            "4           9\n",
            "...       ...\n",
            "75813  151831\n",
            "75814  151832\n",
            "75815  151833\n",
            "75816  151834\n",
            "75817  151837\n",
            "\n",
            "[75818 rows x 1 columns]\n",
            "           ID  TARGET\n",
            "0           2       0\n",
            "1           5       0\n",
            "2           6       0\n",
            "3           7       0\n",
            "4           9       0\n",
            "...       ...     ...\n",
            "75813  151831       0\n",
            "75814  151832       0\n",
            "75815  151833       0\n",
            "75816  151834       0\n",
            "75817  151837       0\n",
            "\n",
            "[75818 rows x 2 columns]\n"
          ]
        },
        {
          "output_type": "stream",
          "name": "stderr",
          "text": [
            "/usr/local/lib/python3.7/dist-packages/ipykernel_launcher.py:11: SettingWithCopyWarning: \n",
            "A value is trying to be set on a copy of a slice from a DataFrame.\n",
            "Try using .loc[row_indexer,col_indexer] = value instead\n",
            "\n",
            "See the caveats in the documentation: https://pandas.pydata.org/pandas-docs/stable/user_guide/indexing.html#returning-a-view-versus-a-copy\n",
            "  # This is added back by InteractiveShellApp.init_path()\n"
          ]
        }
      ]
    }
  ]
}